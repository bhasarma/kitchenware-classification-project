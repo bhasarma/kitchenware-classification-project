{
 "cells": [
  {
   "cell_type": "markdown",
   "id": "b6e3e826",
   "metadata": {},
   "source": [
    "split data into train, validation and test (60/20/20)."
   ]
  },
  {
   "cell_type": "markdown",
   "id": "bae37e06",
   "metadata": {},
   "source": [
    "here train.csv is our complete dataset. We'll split it into train, validation and test."
   ]
  },
  {
   "cell_type": "code",
   "execution_count": 8,
   "id": "0ed81fe8",
   "metadata": {
    "collapsed": true
   },
   "outputs": [
    {
     "name": "stderr",
     "output_type": "stream",
     "text": [
      "2022-12-19 13:34:15.804909: I tensorflow/core/platform/cpu_feature_guard.cc:193] This TensorFlow binary is optimized with oneAPI Deep Neural Network Library (oneDNN) to use the following CPU instructions in performance-critical operations:  AVX2 FMA\n",
      "To enable them in other operations, rebuild TensorFlow with the appropriate compiler flags.\n",
      "2022-12-19 13:34:16.482203: W tensorflow/compiler/xla/stream_executor/platform/default/dso_loader.cc:64] Could not load dynamic library 'libcudart.so.11.0'; dlerror: libcudart.so.11.0: cannot open shared object file: No such file or directory; LD_LIBRARY_PATH: /home/bsarma/anaconda3/envs/ml-zoomcamp/lib/python3.9/site-packages/cv2/../../lib64:\n",
      "2022-12-19 13:34:16.482385: I tensorflow/compiler/xla/stream_executor/cuda/cudart_stub.cc:29] Ignore above cudart dlerror if you do not have a GPU set up on your machine.\n",
      "2022-12-19 13:34:18.377119: W tensorflow/compiler/xla/stream_executor/platform/default/dso_loader.cc:64] Could not load dynamic library 'libnvinfer.so.7'; dlerror: libnvinfer.so.7: cannot open shared object file: No such file or directory; LD_LIBRARY_PATH: /home/bsarma/anaconda3/envs/ml-zoomcamp/lib/python3.9/site-packages/cv2/../../lib64:\n",
      "2022-12-19 13:34:18.377531: W tensorflow/compiler/xla/stream_executor/platform/default/dso_loader.cc:64] Could not load dynamic library 'libnvinfer_plugin.so.7'; dlerror: libnvinfer_plugin.so.7: cannot open shared object file: No such file or directory; LD_LIBRARY_PATH: /home/bsarma/anaconda3/envs/ml-zoomcamp/lib/python3.9/site-packages/cv2/../../lib64:\n",
      "2022-12-19 13:34:18.377624: W tensorflow/compiler/tf2tensorrt/utils/py_utils.cc:38] TF-TRT Warning: Cannot dlopen some TensorRT libraries. If you would like to use Nvidia GPU with TensorRT, please make sure the missing libraries mentioned above are installed properly.\n"
     ]
    }
   ],
   "source": [
    "import glob\n",
    "import pandas as pd\n",
    "import numpy as np\n",
    "import matplotlib.pyplot as plt\n",
    "import seaborn as sns\n",
    "\n",
    "import cv2\n",
    "from PIL import Image\n",
    "\n",
    "import tensorflow as tf\n",
    "\n",
    "from tensorflow import keras"
   ]
  },
  {
   "cell_type": "code",
   "execution_count": 9,
   "id": "f46d65e0",
   "metadata": {},
   "outputs": [],
   "source": [
    "#!pip install opencv-python"
   ]
  },
  {
   "cell_type": "code",
   "execution_count": 11,
   "id": "02f9f2f8",
   "metadata": {},
   "outputs": [
    {
     "data": {
      "text/html": [
       "<div>\n",
       "<style scoped>\n",
       "    .dataframe tbody tr th:only-of-type {\n",
       "        vertical-align: middle;\n",
       "    }\n",
       "\n",
       "    .dataframe tbody tr th {\n",
       "        vertical-align: top;\n",
       "    }\n",
       "\n",
       "    .dataframe thead th {\n",
       "        text-align: right;\n",
       "    }\n",
       "</style>\n",
       "<table border=\"1\" class=\"dataframe\">\n",
       "  <thead>\n",
       "    <tr style=\"text-align: right;\">\n",
       "      <th></th>\n",
       "      <th>Id</th>\n",
       "      <th>label</th>\n",
       "      <th>filename</th>\n",
       "    </tr>\n",
       "  </thead>\n",
       "  <tbody>\n",
       "    <tr>\n",
       "      <th>0</th>\n",
       "      <td>0560</td>\n",
       "      <td>glass</td>\n",
       "      <td>data/images/0560.jpg</td>\n",
       "    </tr>\n",
       "    <tr>\n",
       "      <th>1</th>\n",
       "      <td>4675</td>\n",
       "      <td>cup</td>\n",
       "      <td>data/images/4675.jpg</td>\n",
       "    </tr>\n",
       "    <tr>\n",
       "      <th>2</th>\n",
       "      <td>0875</td>\n",
       "      <td>glass</td>\n",
       "      <td>data/images/0875.jpg</td>\n",
       "    </tr>\n",
       "    <tr>\n",
       "      <th>3</th>\n",
       "      <td>4436</td>\n",
       "      <td>spoon</td>\n",
       "      <td>data/images/4436.jpg</td>\n",
       "    </tr>\n",
       "    <tr>\n",
       "      <th>4</th>\n",
       "      <td>8265</td>\n",
       "      <td>plate</td>\n",
       "      <td>data/images/8265.jpg</td>\n",
       "    </tr>\n",
       "  </tbody>\n",
       "</table>\n",
       "</div>"
      ],
      "text/plain": [
       "     Id  label              filename\n",
       "0  0560  glass  data/images/0560.jpg\n",
       "1  4675    cup  data/images/4675.jpg\n",
       "2  0875  glass  data/images/0875.jpg\n",
       "3  4436  spoon  data/images/4436.jpg\n",
       "4  8265  plate  data/images/8265.jpg"
      ]
     },
     "execution_count": 11,
     "metadata": {},
     "output_type": "execute_result"
    }
   ],
   "source": [
    "#lets's load the dataframe\n",
    "df = pd.read_csv('data/train.csv', dtype={'Id': str})\n",
    "df['filename'] = 'data/images/' + df['Id'] + '.jpg'\n",
    "df.head()"
   ]
  },
  {
   "cell_type": "code",
   "execution_count": 13,
   "id": "14dbcab5",
   "metadata": {},
   "outputs": [],
   "source": [
    "train_cutoff = int(len(df) * 0.6)\n",
    "full_train_cutoff = int(len(df) * 0.8)\n",
    "\n",
    "df_train = df[:train_cutoff]\n",
    "df_val = df[train_cutoff:full_train_cutoff]\n",
    "df_test = df[full_train_cutoff:]\n",
    "df_full_train = df[:full_train_cutoff]"
   ]
  },
  {
   "cell_type": "markdown",
   "id": "e229121a",
   "metadata": {},
   "source": [
    "## 1. EDA"
   ]
  },
  {
   "cell_type": "markdown",
   "id": "bb92fa7b",
   "metadata": {},
   "source": [
    "## 1.1 number of images and classes"
   ]
  },
  {
   "cell_type": "code",
   "execution_count": 15,
   "id": "192ee003",
   "metadata": {},
   "outputs": [
    {
     "data": {
      "text/plain": [
       "(5559, 3335, 1112, 1112, 4447)"
      ]
     },
     "execution_count": 15,
     "metadata": {},
     "output_type": "execute_result"
    }
   ],
   "source": [
    "len(df), len(df_train), len(df_val), len(df_test), len(df_full_train)"
   ]
  },
  {
   "cell_type": "code",
   "execution_count": 30,
   "id": "84ba0bc4",
   "metadata": {},
   "outputs": [
    {
     "name": "stdout",
     "output_type": "stream",
     "text": [
      "for df:\n",
      "          Id  label              filename\n",
      "count   5559   5559                  5559\n",
      "unique  5559      6                  5559\n",
      "top     0560  plate  data/images/0560.jpg\n",
      "freq       1   1227                     1\n",
      "\n",
      "\n",
      "df_train:\n",
      "          Id  label              filename\n",
      "count   3335   3335                  3335\n",
      "unique  3335      6                  3335\n",
      "top     0560  plate  data/images/0560.jpg\n",
      "freq       1    738                     1\n",
      "\n",
      "\n",
      "df_val:\n",
      "          Id  label              filename\n",
      "count   1112   1112                  1112\n",
      "unique  1112      6                  1112\n",
      "top     3496  plate  data/images/3496.jpg\n",
      "freq       1    248                     1\n",
      "\n",
      "\n",
      "df_test:\n",
      "          Id  label              filename\n",
      "count   1112   1112                  1112\n",
      "unique  1112      6                  1112\n",
      "top     0216  plate  data/images/0216.jpg\n",
      "freq       1    241                     1\n",
      "\n",
      "\n",
      "df_full_train:\n",
      "          Id  label              filename\n",
      "count   4447   4447                  4447\n",
      "unique  4447      6                  4447\n",
      "top     0560  plate  data/images/0560.jpg\n",
      "freq       1    986                     1\n"
     ]
    }
   ],
   "source": [
    "print(\"for df:\")\n",
    "print(df.describe())\n",
    "\n",
    "print('\\n')\n",
    "print(\"df_train:\")\n",
    "print(df_train.describe())\n",
    "\n",
    "print('\\n')\n",
    "print(\"df_val:\")\n",
    "print(df_val.describe())\n",
    "\n",
    "print('\\n')\n",
    "print(\"df_test:\")\n",
    "print(df_test.describe())\n",
    "\n",
    "print('\\n')\n",
    "print(\"df_full_train:\")\n",
    "print(df_full_train.describe())"
   ]
  },
  {
   "cell_type": "markdown",
   "id": "19a15bae",
   "metadata": {},
   "source": [
    "We see that all of them has 6 classes"
   ]
  },
  {
   "cell_type": "markdown",
   "id": "2848294a",
   "metadata": {},
   "source": [
    "## 1.2 What are the classes and what are their distribution"
   ]
  },
  {
   "cell_type": "code",
   "execution_count": 31,
   "id": "c7d0baf2",
   "metadata": {},
   "outputs": [
    {
     "data": {
      "text/html": [
       "<div>\n",
       "<style scoped>\n",
       "    .dataframe tbody tr th:only-of-type {\n",
       "        vertical-align: middle;\n",
       "    }\n",
       "\n",
       "    .dataframe tbody tr th {\n",
       "        vertical-align: top;\n",
       "    }\n",
       "\n",
       "    .dataframe thead th {\n",
       "        text-align: right;\n",
       "    }\n",
       "</style>\n",
       "<table border=\"1\" class=\"dataframe\">\n",
       "  <thead>\n",
       "    <tr style=\"text-align: right;\">\n",
       "      <th></th>\n",
       "      <th>Id</th>\n",
       "      <th>label</th>\n",
       "      <th>filename</th>\n",
       "    </tr>\n",
       "  </thead>\n",
       "  <tbody>\n",
       "    <tr>\n",
       "      <th>0</th>\n",
       "      <td>0560</td>\n",
       "      <td>glass</td>\n",
       "      <td>data/images/0560.jpg</td>\n",
       "    </tr>\n",
       "    <tr>\n",
       "      <th>1</th>\n",
       "      <td>4675</td>\n",
       "      <td>cup</td>\n",
       "      <td>data/images/4675.jpg</td>\n",
       "    </tr>\n",
       "    <tr>\n",
       "      <th>2</th>\n",
       "      <td>0875</td>\n",
       "      <td>glass</td>\n",
       "      <td>data/images/0875.jpg</td>\n",
       "    </tr>\n",
       "    <tr>\n",
       "      <th>3</th>\n",
       "      <td>4436</td>\n",
       "      <td>spoon</td>\n",
       "      <td>data/images/4436.jpg</td>\n",
       "    </tr>\n",
       "    <tr>\n",
       "      <th>4</th>\n",
       "      <td>8265</td>\n",
       "      <td>plate</td>\n",
       "      <td>data/images/8265.jpg</td>\n",
       "    </tr>\n",
       "  </tbody>\n",
       "</table>\n",
       "</div>"
      ],
      "text/plain": [
       "     Id  label              filename\n",
       "0  0560  glass  data/images/0560.jpg\n",
       "1  4675    cup  data/images/4675.jpg\n",
       "2  0875  glass  data/images/0875.jpg\n",
       "3  4436  spoon  data/images/4436.jpg\n",
       "4  8265  plate  data/images/8265.jpg"
      ]
     },
     "execution_count": 31,
     "metadata": {},
     "output_type": "execute_result"
    }
   ],
   "source": [
    "df.head()"
   ]
  },
  {
   "cell_type": "code",
   "execution_count": 32,
   "id": "0640f8bb",
   "metadata": {},
   "outputs": [
    {
     "data": {
      "text/plain": [
       "6"
      ]
     },
     "execution_count": 32,
     "metadata": {},
     "output_type": "execute_result"
    }
   ],
   "source": [
    "df['label'].nunique()"
   ]
  },
  {
   "cell_type": "code",
   "execution_count": 36,
   "id": "a42f3565",
   "metadata": {},
   "outputs": [
    {
     "data": {
      "text/plain": [
       "plate    1227\n",
       "cup      1135\n",
       "spoon     989\n",
       "knife     909\n",
       "glass     742\n",
       "fork      557\n",
       "Name: label, dtype: int64"
      ]
     },
     "execution_count": 36,
     "metadata": {},
     "output_type": "execute_result"
    }
   ],
   "source": [
    "df['label'].value_counts()"
   ]
  },
  {
   "cell_type": "code",
   "execution_count": 51,
   "id": "6f1209a7",
   "metadata": {},
   "outputs": [
    {
     "data": {
      "image/png": "[encoded data removed]",
      "text/plain": [
       "<Figure size 640x480 with 1 Axes>"
      ]
     },
     "metadata": {},
     "output_type": "display_data"
    }
   ],
   "source": [
    "# Get the counts of unique values in the \"label\" column\n",
    "counts_df = df[\"label\"].value_counts(normalize = True)\n",
    "# Plot the frequencies as a histogram\n",
    "counts_df.plot(kind=\"bar\")\n",
    "\n",
    "# Show the plot\n",
    "plt.title(\"all images\")\n",
    "plt.show()"
   ]
  },
  {
   "cell_type": "code",
   "execution_count": 53,
   "id": "f8ecbe67",
   "metadata": {},
   "outputs": [
    {
     "data": {
      "image/png": "[encoded data removed]",
      "text/plain": [
       "<Figure size 640x480 with 1 Axes>"
      ]
     },
     "metadata": {},
     "output_type": "display_data"
    }
   ],
   "source": [
    "counts_df_train = df_train[\"label\"].value_counts(normalize = True)\n",
    "counts_df_train.plot(kind=\"bar\")\n",
    "plt.title(\"training images\")\n",
    "plt.show()"
   ]
  },
  {
   "cell_type": "code",
   "execution_count": 54,
   "id": "5d20e886",
   "metadata": {},
   "outputs": [
    {
     "data": {
      "image/png": "[encoded data removed]",
      "text/plain": [
       "<Figure size 640x480 with 1 Axes>"
      ]
     },
     "metadata": {},
     "output_type": "display_data"
    }
   ],
   "source": [
    "counts_df_val = df_val[\"label\"].value_counts(normalize = True)\n",
    "counts_df_val.plot(kind=\"bar\")\n",
    "plt.title(\"validation images\")\n",
    "plt.show()"
   ]
  },
  {
   "cell_type": "code",
   "execution_count": 56,
   "id": "97805ba8",
   "metadata": {},
   "outputs": [
    {
     "data": {
      "image/png": "[encoded data removed]",
      "text/plain": [
       "<Figure size 640x480 with 1 Axes>"
      ]
     },
     "metadata": {},
     "output_type": "display_data"
    }
   ],
   "source": [
    "counts_df_test = df[\"label\"].value_counts(normalize = True)\n",
    "counts_df_test.plot(kind=\"bar\")\n",
    "plt.title(\"test images\")\n",
    "plt.show()"
   ]
  },
  {
   "cell_type": "markdown",
   "id": "1003d841",
   "metadata": {},
   "source": [
    "## 1.3 randomly look at 5-12 images for visual assessment with their classes printed in it "
   ]
  },
  {
   "cell_type": "code",
   "execution_count": null,
   "id": "597573d1",
   "metadata": {},
   "outputs": [],
   "source": [
    "path = './data/images'\n",
    "name = '***.jpg'\n",
    "fullname = f'{path}/{name}'\n",
    "load_img(fullname)"
   ]
  },
  {
   "cell_type": "code",
   "execution_count": null,
   "id": "d335f731",
   "metadata": {},
   "outputs": [],
   "source": [
    "img = load_img(fullname, target_size=(299, 299))\n",
    "x = np.array(img)\n",
    "x.shape"
   ]
  },
  {
   "cell_type": "code",
   "execution_count": null,
   "id": "4c687b25",
   "metadata": {},
   "outputs": [],
   "source": [
    "plt.figure(figsize = (15, 18))\n",
    "\n",
    "for i in range(16):\n",
    "    random = np.random.randint(1, len(dataset))\n",
    "    plt.subplot(4, 4, i+1)\n",
    "    plt.imshow(cv2.imread(dataset.loc[random,\"image_path\"]))\n",
    "    plt.title(dataset.loc[random,\"mask_status\"], size = 18)\n",
    "  \n",
    "plt.show()"
   ]
  },
  {
   "cell_type": "markdown",
   "id": "16a6dc6e",
   "metadata": {},
   "source": [
    "## 1.4 Distribution of images size (kb) and resolution (width and height)"
   ]
  },
  {
   "cell_type": "code",
   "execution_count": null,
   "id": "a11a4dda",
   "metadata": {},
   "outputs": [],
   "source": [
    "for where in os.listdir(path):\n",
    "    for status in os.listdir(path+\"/\"+where):\n",
    "        for image in glob.glob(path+\"/\"+where+\"/\"+status+\"/\"+\"*.jpg\"):\n",
    "            dataset[\"image_path\"].append(image)\n",
    "            dataset[\"mask_status\"].append(status)\n",
    "            dataset[\"where\"].append(where)\n",
    "            dataset[\"image_size\"].append(round((os.path.getsize(image)/1000),2))\n",
    "            img = Image.open(image)\n",
    "            width, height = img.size\n",
    "            dataset[\"image_resolution\"].append((width,height))\n",
    "            \n",
    "dataset = pd.DataFrame(dataset)\n",
    "dataset.sample(10)"
   ]
  },
  {
   "cell_type": "code",
   "execution_count": null,
   "id": "f3921371",
   "metadata": {},
   "outputs": [],
   "source": [
    "# Check image properties\n",
    "\n",
    "size = round(dataset['image_size'].mean(),2)\n",
    "print(f'The average image size is {size} kb')\n",
    "\n",
    "width = []\n",
    "for i in dataset.image_resolution:\n",
    "    width.append(i[0])\n",
    "\n",
    "height = []\n",
    "for i in dataset.image_resolution:\n",
    "    height.append(i[0])\n",
    "\n",
    "print(f'The average image resolution is {int(mean(width))}x{int(mean(height))}')\n",
    "print(f'The min image width is {int(min(width))} pixels')\n",
    "print(f'The min image height is {int(min(height))} pixels')"
   ]
  }
 ],
 "metadata": {
  "kernelspec": {
   "display_name": "Python 3",
   "language": "python",
   "name": "python3"
  },
  "language_info": {
   "codemirror_mode": {
    "name": "ipython",
    "version": 3
   },
   "file_extension": ".py",
   "mimetype": "text/x-python",
   "name": "python",
   "nbconvert_exporter": "python",
   "pygments_lexer": "ipython3",
   "version": "3.9.13"
  }
 },
 "nbformat": 4,
 "nbformat_minor": 5
}
