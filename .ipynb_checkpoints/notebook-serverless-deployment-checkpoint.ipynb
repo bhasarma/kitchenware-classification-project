{
 "cells": [
  {
   "cell_type": "code",
   "execution_count": 1,
   "id": "2e16fb36",
   "metadata": {},
   "outputs": [],
   "source": [
    "#%autosave 0"
   ]
  },
  {
   "cell_type": "code",
   "execution_count": 2,
   "id": "4b1cfe76",
   "metadata": {},
   "outputs": [
    {
     "name": "stderr",
     "output_type": "stream",
     "text": [
      "2022-12-20 21:24:37.299430: I tensorflow/core/platform/cpu_feature_guard.cc:193] This TensorFlow binary is optimized with oneAPI Deep Neural Network Library (oneDNN) to use the following CPU instructions in performance-critical operations:  AVX2 FMA\n",
      "To enable them in other operations, rebuild TensorFlow with the appropriate compiler flags.\n",
      "2022-12-20 21:24:37.843503: W tensorflow/compiler/xla/stream_executor/platform/default/dso_loader.cc:64] Could not load dynamic library 'libcudart.so.11.0'; dlerror: libcudart.so.11.0: cannot open shared object file: No such file or directory\n",
      "2022-12-20 21:24:37.843588: I tensorflow/compiler/xla/stream_executor/cuda/cudart_stub.cc:29] Ignore above cudart dlerror if you do not have a GPU set up on your machine.\n",
      "2022-12-20 21:24:39.273866: W tensorflow/compiler/xla/stream_executor/platform/default/dso_loader.cc:64] Could not load dynamic library 'libnvinfer.so.7'; dlerror: libnvinfer.so.7: cannot open shared object file: No such file or directory\n",
      "2022-12-20 21:24:39.274279: W tensorflow/compiler/xla/stream_executor/platform/default/dso_loader.cc:64] Could not load dynamic library 'libnvinfer_plugin.so.7'; dlerror: libnvinfer_plugin.so.7: cannot open shared object file: No such file or directory\n",
      "2022-12-20 21:24:39.274310: W tensorflow/compiler/tf2tensorrt/utils/py_utils.cc:38] TF-TRT Warning: Cannot dlopen some TensorRT libraries. If you would like to use Nvidia GPU with TensorRT, please make sure the missing libraries mentioned above are installed properly.\n"
     ]
    }
   ],
   "source": [
    "# import packages\n",
    "import tensorflow as tf\n",
    "from tensorflow import keras"
   ]
  },
  {
   "cell_type": "code",
   "execution_count": 3,
   "id": "9f5d0632",
   "metadata": {},
   "outputs": [
    {
     "name": "stdout",
     "output_type": "stream",
     "text": [
      "--2022-12-20 21:26:12--  https://github.com/bhasarma/kitchenware-classification-project/blob/main/xception_v4_2_16_0.965.h5\n",
      "Resolving github.com (github.com)... 140.82.121.3\n",
      "Connecting to github.com (github.com)|140.82.121.3|:443... connected.\n",
      "HTTP request sent, awaiting response... 200 OK\n",
      "Length: unspecified [text/html]\n",
      "Saving to: ‘kitchenware-model.h5’\n",
      "\n",
      "kitchenware-model.h     [ <=>                ] 142.70K  --.-KB/s    in 0.05s   \n",
      "\n",
      "2022-12-20 21:26:12 (2.78 MB/s) - ‘kitchenware-model.h5’ saved [146124]\n",
      "\n"
     ]
    }
   ],
   "source": [
    "# download the CNN model already trained on image data from git-hub only once\n",
    "#!wget https://github.com/bhasarma/kitchenware-classification-project/blob/main/xception_v4_2_16_0.965.h5 -O kitchenware-model.h5"
   ]
  },
  {
   "cell_type": "code",
   "execution_count": 4,
   "id": "55c75ab8",
   "metadata": {},
   "outputs": [
    {
     "name": "stdout",
     "output_type": "stream",
     "text": [
      "Python 3.9.13\r\n"
     ]
    }
   ],
   "source": [
    "!python -V"
   ]
  },
  {
   "cell_type": "code",
   "execution_count": 5,
   "id": "54abbd99",
   "metadata": {},
   "outputs": [
    {
     "data": {
      "text/plain": [
       "'2.11.0'"
      ]
     },
     "execution_count": 5,
     "metadata": {},
     "output_type": "execute_result"
    }
   ],
   "source": [
    "tf.__version__"
   ]
  },
  {
   "cell_type": "code",
   "execution_count": 6,
   "id": "25f54a5c",
   "metadata": {},
   "outputs": [
    {
     "name": "stdout",
     "output_type": "stream",
     "text": [
      "classes.txt               notebook-serverless-deployment.ipynb\r\n",
      "collage.py                README.md\r\n",
      "\u001b[0m\u001b[01;34mdata\u001b[0m/                     report.md\r\n",
      "Dockerfile                \u001b[01;35mtest-image.jpg\u001b[0m\r\n",
      "kitchenware-model.h5      test.py\r\n",
      "kitchenware-model.tflite  train.py\r\n",
      "lambda_function.py        xception_v2_10_10_0.887.h5\r\n",
      "LICENSE                   xception_v4_2_16_0.965.h5\r\n",
      "notebook.ipynb\r\n"
     ]
    }
   ],
   "source": [
    "ls"
   ]
  },
  {
   "cell_type": "code",
   "execution_count": 9,
   "id": "fdce17f3",
   "metadata": {},
   "outputs": [
    {
     "name": "stderr",
     "output_type": "stream",
     "text": [
      "2022-12-20 21:28:59.028801: W tensorflow/compiler/xla/stream_executor/platform/default/dso_loader.cc:64] Could not load dynamic library 'libcuda.so.1'; dlerror: libcuda.so.1: cannot open shared object file: No such file or directory\n",
      "2022-12-20 21:28:59.028848: W tensorflow/compiler/xla/stream_executor/cuda/cuda_driver.cc:265] failed call to cuInit: UNKNOWN ERROR (303)\n",
      "2022-12-20 21:28:59.028877: I tensorflow/compiler/xla/stream_executor/cuda/cuda_diagnostics.cc:156] kernel driver does not appear to be running on this host (turing): /proc/driver/nvidia/version does not exist\n",
      "2022-12-20 21:28:59.029752: I tensorflow/core/platform/cpu_feature_guard.cc:193] This TensorFlow binary is optimized with oneAPI Deep Neural Network Library (oneDNN) to use the following CPU instructions in performance-critical operations:  AVX2 FMA\n",
      "To enable them in other operations, rebuild TensorFlow with the appropriate compiler flags.\n"
     ]
    }
   ],
   "source": [
    "#load the model\n",
    "model = keras.models.load_model('xception_v4_2_16_0.965.h5')"
   ]
  },
  {
   "cell_type": "markdown",
   "id": "85ed0e9c",
   "metadata": {},
   "source": [
    "Now we want to classifiy an image using this model."
   ]
  },
  {
   "cell_type": "code",
   "execution_count": 23,
   "id": "aedc38f9",
   "metadata": {},
   "outputs": [],
   "source": [
    "# run below line only once, to download our test-image\n",
    "#!wget https://github.com/bhasarma/kitchenware-classification-project/blob/main/test-image.jpg"
   ]
  },
  {
   "cell_type": "code",
   "execution_count": 65,
   "id": "526d4426",
   "metadata": {},
   "outputs": [],
   "source": [
    "from tensorflow.keras.preprocessing.image import load_img\n",
    "from tensorflow.keras.applications.xception import preprocess_input\n",
    "import numpy as np"
   ]
  },
  {
   "cell_type": "code",
   "execution_count": 25,
   "id": "c8162550",
   "metadata": {},
   "outputs": [
    {
     "data": {
      "image/png": "[encoded data removed]",
      "text/plain": [
       "<PIL.Image.Image image mode=RGB size=150x150>"
      ]
     },
     "execution_count": 25,
     "metadata": {},
     "output_type": "execute_result"
    }
   ],
   "source": [
    "img = load_img('test-image.jpg', target_size =(150,150))\n",
    "img"
   ]
  },
  {
   "cell_type": "code",
   "execution_count": 27,
   "id": "e8088c23",
   "metadata": {},
   "outputs": [],
   "source": [
    "X = np.array(img)\n",
    "X = np.array([X])\n",
    "X = preprocess_input(X)"
   ]
  },
  {
   "cell_type": "code",
   "execution_count": 28,
   "id": "a866e3fa",
   "metadata": {},
   "outputs": [
    {
     "data": {
      "text/plain": [
       "(1, 150, 150, 3)"
      ]
     },
     "execution_count": 28,
     "metadata": {},
     "output_type": "execute_result"
    }
   ],
   "source": [
    "X.shape"
   ]
  },
  {
   "cell_type": "code",
   "execution_count": 29,
   "id": "38ede638",
   "metadata": {},
   "outputs": [
    {
     "name": "stdout",
     "output_type": "stream",
     "text": [
      "1/1 [==============================] - 1s 789ms/step\n"
     ]
    },
    {
     "data": {
      "text/plain": [
       "array([[ 4.5758114 , -1.0029272 , -2.167136  , -1.7571886 , -0.21591581,\n",
       "        -2.3173115 ]], dtype=float32)"
      ]
     },
     "execution_count": 29,
     "metadata": {},
     "output_type": "execute_result"
    }
   ],
   "source": [
    "preds = model.predict(X)\n",
    "preds"
   ]
  },
  {
   "cell_type": "code",
   "execution_count": 30,
   "id": "4885af9f",
   "metadata": {},
   "outputs": [],
   "source": [
    "classes = [\n",
    "    'cups',\n",
    "    'glass',\n",
    "    'plate',\n",
    "    'spoon',\n",
    "    'knife',\n",
    "    'fork'\n",
    "]"
   ]
  },
  {
   "cell_type": "code",
   "execution_count": 31,
   "id": "2f7b2cb3",
   "metadata": {},
   "outputs": [
    {
     "data": {
      "text/plain": [
       "{'cups': 4.5758114,\n",
       " 'glass': -1.0029272,\n",
       " 'plate': -2.167136,\n",
       " 'spoon': -1.7571886,\n",
       " 'knife': -0.21591581,\n",
       " 'fork': -2.3173115}"
      ]
     },
     "execution_count": 31,
     "metadata": {},
     "output_type": "execute_result"
    }
   ],
   "source": [
    "dict(zip(classes, preds[0]))"
   ]
  },
  {
   "cell_type": "markdown",
   "id": "8a0bbde5",
   "metadata": {},
   "source": [
    "## Step 1: convert tensorflow / keras model to TF-Lite format"
   ]
  },
  {
   "cell_type": "code",
   "execution_count": 33,
   "id": "82786caf",
   "metadata": {},
   "outputs": [
    {
     "name": "stderr",
     "output_type": "stream",
     "text": [
      "WARNING:absl:Found untraced functions such as _jit_compiled_convolution_op, _jit_compiled_convolution_op, _jit_compiled_convolution_op, _jit_compiled_convolution_op, _jit_compiled_convolution_op while saving (showing 5 of 40). These functions will not be directly callable after loading.\n"
     ]
    },
    {
     "name": "stdout",
     "output_type": "stream",
     "text": [
      "INFO:tensorflow:Assets written to: /tmp/tmpnqv02410/assets\n"
     ]
    },
    {
     "name": "stderr",
     "output_type": "stream",
     "text": [
      "INFO:tensorflow:Assets written to: /tmp/tmpnqv02410/assets\n",
      "2022-12-20 12:44:05.599764: W tensorflow/compiler/mlir/lite/python/tf_tfl_flatbuffer_helpers.cc:362] Ignored output_format.\n",
      "2022-12-20 12:44:05.600559: W tensorflow/compiler/mlir/lite/python/tf_tfl_flatbuffer_helpers.cc:365] Ignored drop_control_dependency.\n",
      "2022-12-20 12:44:05.608008: I tensorflow/cc/saved_model/reader.cc:45] Reading SavedModel from: /tmp/tmpnqv02410\n",
      "2022-12-20 12:44:05.640387: I tensorflow/cc/saved_model/reader.cc:89] Reading meta graph with tags { serve }\n",
      "2022-12-20 12:44:05.641457: I tensorflow/cc/saved_model/reader.cc:130] Reading SavedModel debug info (if present) from: /tmp/tmpnqv02410\n",
      "2022-12-20 12:44:05.882547: I tensorflow/compiler/mlir/mlir_graph_optimization_pass.cc:357] MLIR V1 optimization pass is not enabled\n",
      "2022-12-20 12:44:05.922478: I tensorflow/cc/saved_model/loader.cc:229] Restoring SavedModel bundle.\n",
      "2022-12-20 12:44:07.149175: I tensorflow/cc/saved_model/loader.cc:213] Running initialization op on SavedModel bundle at path: /tmp/tmpnqv02410\n",
      "2022-12-20 12:44:07.551633: I tensorflow/cc/saved_model/loader.cc:305] SavedModel load for tags { serve }; Status: success: OK. Took 1943951 microseconds.\n",
      "2022-12-20 12:44:08.673717: I tensorflow/compiler/mlir/tensorflow/utils/dump_mlir_util.cc:268] disabling MLIR crash reproducer, set env var `MLIR_CRASH_REPRODUCER_DIRECTORY` to enable.\n"
     ]
    }
   ],
   "source": [
    "converter = tf.lite.TFLiteConverter.from_keras_model(model)\n",
    "tflite_model = converter.convert()\n",
    "\n",
    "with open('kitchenware-model.tflite', 'wb') as f_out:\n",
    "    f_out.write(tflite_model)"
   ]
  },
  {
   "cell_type": "code",
   "execution_count": 34,
   "id": "dcf09ef1",
   "metadata": {},
   "outputs": [
    {
     "name": "stdout",
     "output_type": "stream",
     "text": [
      "total 163M\r\n",
      "-rw-rw-r-- 1 bsarma bsarma 1.4K Dec 16 12:07 collage.py\r\n",
      "drwxrwxr-x 2 bsarma bsarma 4.0K Dec 19 13:30 data\r\n",
      "-rw-rw-r-- 1 bsarma bsarma  395 Nov 26 12:43 Dockerfile\r\n",
      "-rw-rw-r-- 1 bsarma bsarma  80M Dec 20 12:44 kitchenware-model.tflite\r\n",
      "-rw-rw-r-- 1 bsarma bsarma 1.2K Nov 26 12:50 lambda_function.py\r\n",
      "-rw-rw-r-- 1 bsarma bsarma 1.1K Dec 16 12:35 LICENSE\r\n",
      "-rw-rw-r-- 1 bsarma bsarma 1.3M Dec 19 20:48 notebook_1912.ipynb\r\n",
      "-rw-rw-r-- 1 bsarma bsarma 1.2M Dec 20 01:01 notebook_2012_010129.ipynb\r\n",
      "-rw-rw-r-- 1 bsarma bsarma  86K Dec 19 18:30 notebook-pre-saturn.ipynb\r\n",
      "-rw-rw-r-- 1 bsarma bsarma 169K Dec 20 12:43 notebook-serverless-deployment.ipynb\r\n",
      "-rw-rw-r-- 1 bsarma bsarma 5.3K Dec 20 11:45 README.md\r\n",
      "-rw-rw-r-- 1 bsarma bsarma  779 Nov 28 15:34 report.md\r\n",
      "-rw-rw-r-- 1 bsarma bsarma  28K Dec 20 11:39 test-image.jpg\r\n",
      "-rw-rw-r-- 1 bsarma bsarma  346 Nov 27 14:13 test.py\r\n",
      "-rw-rw-r-- 1 bsarma bsarma  81M Dec 20 12:31 xception_v2_10_10_0.887.h5\r\n"
     ]
    }
   ],
   "source": [
    "!ls -lh"
   ]
  },
  {
   "cell_type": "markdown",
   "id": "b67ff2a3",
   "metadata": {},
   "source": [
    "Now we can use the tflite model. It is bit more involved than just using keras. "
   ]
  },
  {
   "cell_type": "code",
   "execution_count": 35,
   "id": "0fc49ba1",
   "metadata": {},
   "outputs": [],
   "source": [
    "import tensorflow.lite as tflite"
   ]
  },
  {
   "cell_type": "code",
   "execution_count": 36,
   "id": "4829794a",
   "metadata": {},
   "outputs": [
    {
     "name": "stderr",
     "output_type": "stream",
     "text": [
      "INFO: Created TensorFlow Lite XNNPACK delegate for CPU.\n"
     ]
    }
   ],
   "source": [
    "interpreter = tflite.Interpreter(model_path='kitchenware-model.tflite')\n",
    "interpreter.allocate_tensors()"
   ]
  },
  {
   "cell_type": "code",
   "execution_count": 37,
   "id": "d6def010",
   "metadata": {},
   "outputs": [
    {
     "data": {
      "text/plain": [
       "[{'name': 'serving_default_input_16:0',\n",
       "  'index': 0,\n",
       "  'shape': array([  1, 150, 150,   3], dtype=int32),\n",
       "  'shape_signature': array([ -1, 150, 150,   3], dtype=int32),\n",
       "  'dtype': numpy.float32,\n",
       "  'quantization': (0.0, 0),\n",
       "  'quantization_parameters': {'scales': array([], dtype=float32),\n",
       "   'zero_points': array([], dtype=int32),\n",
       "   'quantized_dimension': 0},\n",
       "  'sparsity_parameters': {}}]"
      ]
     },
     "execution_count": 37,
     "metadata": {},
     "output_type": "execute_result"
    }
   ],
   "source": [
    "interpreter.get_input_details()"
   ]
  },
  {
   "cell_type": "code",
   "execution_count": 38,
   "id": "88b9540d",
   "metadata": {},
   "outputs": [],
   "source": [
    "input_index = interpreter.get_input_details()[0]['index']"
   ]
  },
  {
   "cell_type": "code",
   "execution_count": 39,
   "id": "2ff79eb4",
   "metadata": {},
   "outputs": [
    {
     "data": {
      "text/plain": [
       "[{'name': 'StatefulPartitionedCall:0',\n",
       "  'index': 229,\n",
       "  'shape': array([1, 6], dtype=int32),\n",
       "  'shape_signature': array([-1,  6], dtype=int32),\n",
       "  'dtype': numpy.float32,\n",
       "  'quantization': (0.0, 0),\n",
       "  'quantization_parameters': {'scales': array([], dtype=float32),\n",
       "   'zero_points': array([], dtype=int32),\n",
       "   'quantized_dimension': 0},\n",
       "  'sparsity_parameters': {}}]"
      ]
     },
     "execution_count": 39,
     "metadata": {},
     "output_type": "execute_result"
    }
   ],
   "source": [
    "interpreter.get_output_details()"
   ]
  },
  {
   "cell_type": "code",
   "execution_count": 40,
   "id": "accf5209",
   "metadata": {},
   "outputs": [],
   "source": [
    "output_index = interpreter.get_output_details()[0]['index']"
   ]
  },
  {
   "cell_type": "code",
   "execution_count": 41,
   "id": "0e2ffca4",
   "metadata": {},
   "outputs": [],
   "source": [
    "interpreter.set_tensor(input_index, X)"
   ]
  },
  {
   "cell_type": "code",
   "execution_count": 42,
   "id": "2e7c7397",
   "metadata": {},
   "outputs": [],
   "source": [
    "interpreter.invoke()"
   ]
  },
  {
   "cell_type": "code",
   "execution_count": 43,
   "id": "3e0749cd",
   "metadata": {},
   "outputs": [
    {
     "data": {
      "text/plain": [
       "array([[ 4.57581   , -1.0029266 , -2.1671364 , -1.7571877 , -0.21591592,\n",
       "        -2.3173115 ]], dtype=float32)"
      ]
     },
     "execution_count": 43,
     "metadata": {},
     "output_type": "execute_result"
    }
   ],
   "source": [
    "preds = interpreter.get_tensor(output_index)\n",
    "preds"
   ]
  },
  {
   "cell_type": "markdown",
   "id": "62ee08b9",
   "metadata": {},
   "source": [
    "Above are our predictions with tflite model instead of keras. "
   ]
  },
  {
   "cell_type": "code",
   "execution_count": 44,
   "id": "5c3c19cb",
   "metadata": {},
   "outputs": [
    {
     "data": {
      "text/plain": [
       "{'cups': 4.57581,\n",
       " 'glass': -1.0029266,\n",
       " 'plate': -2.1671364,\n",
       " 'spoon': -1.7571877,\n",
       " 'knife': -0.21591592,\n",
       " 'fork': -2.3173115}"
      ]
     },
     "execution_count": 44,
     "metadata": {},
     "output_type": "execute_result"
    }
   ],
   "source": [
    "classes = [\n",
    "    'cups',\n",
    "    'glass',\n",
    "    'plate',\n",
    "    'spoon',\n",
    "    'knife',\n",
    "    'fork'\n",
    "]\n",
    "dict(zip(classes, preds[0]))"
   ]
  },
  {
   "cell_type": "markdown",
   "id": "af5048aa",
   "metadata": {},
   "source": [
    "## Removing TensorFlow dependency"
   ]
  },
  {
   "cell_type": "code",
   "execution_count": 45,
   "id": "2f20ddec",
   "metadata": {},
   "outputs": [],
   "source": [
    "from PIL import Image"
   ]
  },
  {
   "cell_type": "code",
   "execution_count": 47,
   "id": "08ed77a0",
   "metadata": {},
   "outputs": [
    {
     "name": "stderr",
     "output_type": "stream",
     "text": [
      "/tmp/ipykernel_13324/1365030391.py:2: DeprecationWarning: NEAREST is deprecated and will be removed in Pillow 10 (2023-07-01). Use Resampling.NEAREST or Dither.NONE instead.\n",
      "  img = img.resize((150,150), Image.NEAREST)\n"
     ]
    }
   ],
   "source": [
    "with Image.open('test-image.jpg') as img:\n",
    "    img = img.resize((150,150), Image.NEAREST)    "
   ]
  },
  {
   "cell_type": "code",
   "execution_count": 48,
   "id": "27bb8ff4",
   "metadata": {},
   "outputs": [
    {
     "data": {
      "image/png": "[encoded data removed]",
      "text/plain": [
       "<PIL.Image.Image image mode=RGB size=150x150>"
      ]
     },
     "execution_count": 48,
     "metadata": {},
     "output_type": "execute_result"
    }
   ],
   "source": [
    "img"
   ]
  },
  {
   "cell_type": "code",
   "execution_count": 49,
   "id": "63fdf600",
   "metadata": {},
   "outputs": [],
   "source": [
    "def preprocess_input(x):\n",
    "    x /= 127.5\n",
    "    x -= 1.\n",
    "    return x"
   ]
  },
  {
   "cell_type": "code",
   "execution_count": 50,
   "id": "2a911b97",
   "metadata": {},
   "outputs": [],
   "source": [
    "x = np.array(img, dtype='float32')\n",
    "X = np.array([x])\n",
    "\n",
    "X = preprocess_input(X)"
   ]
  },
  {
   "cell_type": "code",
   "execution_count": 51,
   "id": "8d979d02",
   "metadata": {},
   "outputs": [],
   "source": [
    "interpreter.set_tensor(input_index, X)\n",
    "interpreter.invoke()\n",
    "preds = interpreter.get_tensor(output_index)"
   ]
  },
  {
   "cell_type": "code",
   "execution_count": 52,
   "id": "69e5d33a",
   "metadata": {},
   "outputs": [
    {
     "data": {
      "text/plain": [
       "{'cups': 4.57581,\n",
       " 'glass': -1.0029266,\n",
       " 'plate': -2.1671364,\n",
       " 'spoon': -1.7571877,\n",
       " 'knife': -0.21591592,\n",
       " 'fork': -2.3173115}"
      ]
     },
     "execution_count": 52,
     "metadata": {},
     "output_type": "execute_result"
    }
   ],
   "source": [
    "classes = [\n",
    "    'cups',\n",
    "    'glass',\n",
    "    'plate',\n",
    "    'spoon',\n",
    "    'knife',\n",
    "    'fork'\n",
    "]\n",
    "\n",
    "dict(zip(classes, preds[0]))"
   ]
  },
  {
   "cell_type": "markdown",
   "id": "c94de06b",
   "metadata": {},
   "source": [
    "Above we see that we still have the same prediction, but this time without dependency on tensorflow. "
   ]
  },
  {
   "cell_type": "markdown",
   "id": "3a882875",
   "metadata": {},
   "source": [
    "Actually there is a simpler way of doing this. We don't need to do all that. "
   ]
  },
  {
   "cell_type": "markdown",
   "id": "8fc01286",
   "metadata": {},
   "source": [
    "## Simpler way of doing it"
   ]
  },
  {
   "cell_type": "markdown",
   "id": "953d5c68",
   "metadata": {},
   "source": [
    "Using keras-image-helper. Does it not only for xception model, but also for other models."
   ]
  },
  {
   "cell_type": "code",
   "execution_count": 53,
   "id": "9ce88154",
   "metadata": {},
   "outputs": [
    {
     "name": "stdout",
     "output_type": "stream",
     "text": [
      "Requirement already satisfied: keras-image-helper in /home/bsarma/anaconda3/envs/ml-zoomcamp/lib/python3.9/site-packages (0.0.1)\r\n",
      "Requirement already satisfied: numpy in /home/bsarma/anaconda3/envs/ml-zoomcamp/lib/python3.9/site-packages (from keras-image-helper) (1.21.5)\r\n",
      "Requirement already satisfied: pillow in /home/bsarma/anaconda3/envs/ml-zoomcamp/lib/python3.9/site-packages (from keras-image-helper) (9.2.0)\r\n"
     ]
    }
   ],
   "source": [
    "!pip install keras-image-helper"
   ]
  },
  {
   "cell_type": "code",
   "execution_count": 54,
   "id": "cd0a3408",
   "metadata": {},
   "outputs": [
    {
     "name": "stdout",
     "output_type": "stream",
     "text": [
      "Looking in indexes: https://pypi.org/simple, https://google-coral.github.io/py-repo/\r\n",
      "Requirement already satisfied: tflite_runtime in /home/bsarma/anaconda3/envs/ml-zoomcamp/lib/python3.9/site-packages (2.10.0)\r\n",
      "Requirement already satisfied: numpy>=1.19.2 in /home/bsarma/anaconda3/envs/ml-zoomcamp/lib/python3.9/site-packages (from tflite_runtime) (1.21.5)\r\n"
     ]
    }
   ],
   "source": [
    "!pip install --extra-index-url https://google-coral.github.io/py-repo/ tflite_runtime"
   ]
  },
  {
   "cell_type": "code",
   "execution_count": 55,
   "id": "3816a7d3",
   "metadata": {},
   "outputs": [],
   "source": [
    "#import tensorflow.lite as tflite\n",
    "import tflite_runtime.interpreter as tflite\n",
    "from keras_image_helper import create_preprocessor"
   ]
  },
  {
   "cell_type": "code",
   "execution_count": 57,
   "id": "e442c2a8",
   "metadata": {},
   "outputs": [
    {
     "name": "stderr",
     "output_type": "stream",
     "text": [
      "INFO: Created TensorFlow Lite XNNPACK delegate for CPU.\n"
     ]
    }
   ],
   "source": [
    "interpreter = tflite.Interpreter(model_path='kitchenware-model.tflite')\n",
    "interpreter.allocate_tensors()\n",
    "\n",
    "input_index = interpreter.get_input_details()[0]['index']\n",
    "output_index = interpreter.get_output_details()[0]['index']"
   ]
  },
  {
   "cell_type": "code",
   "execution_count": 58,
   "id": "5be3e557",
   "metadata": {},
   "outputs": [],
   "source": [
    "preprocessor = create_preprocessor('xception', target_size=(150, 150))"
   ]
  },
  {
   "cell_type": "code",
   "execution_count": 61,
   "id": "e2873083",
   "metadata": {},
   "outputs": [],
   "source": [
    "url = 'https://github.com/bhasarma/kitchenware-classification-project/blob/main/test-image.jpg?raw=true'\n",
    "X = preprocessor.from_url(url)"
   ]
  },
  {
   "cell_type": "code",
   "execution_count": 62,
   "id": "a52cd3d9",
   "metadata": {},
   "outputs": [
    {
     "data": {
      "text/plain": [
       "array([[[[1., 1., 1.],\n",
       "         [1., 1., 1.],\n",
       "         [1., 1., 1.],\n",
       "         ...,\n",
       "         [1., 1., 1.],\n",
       "         [1., 1., 1.],\n",
       "         [1., 1., 1.]],\n",
       "\n",
       "        [[1., 1., 1.],\n",
       "         [1., 1., 1.],\n",
       "         [1., 1., 1.],\n",
       "         ...,\n",
       "         [1., 1., 1.],\n",
       "         [1., 1., 1.],\n",
       "         [1., 1., 1.]],\n",
       "\n",
       "        [[1., 1., 1.],\n",
       "         [1., 1., 1.],\n",
       "         [1., 1., 1.],\n",
       "         ...,\n",
       "         [1., 1., 1.],\n",
       "         [1., 1., 1.],\n",
       "         [1., 1., 1.]],\n",
       "\n",
       "        ...,\n",
       "\n",
       "        [[1., 1., 1.],\n",
       "         [1., 1., 1.],\n",
       "         [1., 1., 1.],\n",
       "         ...,\n",
       "         [1., 1., 1.],\n",
       "         [1., 1., 1.],\n",
       "         [1., 1., 1.]],\n",
       "\n",
       "        [[1., 1., 1.],\n",
       "         [1., 1., 1.],\n",
       "         [1., 1., 1.],\n",
       "         ...,\n",
       "         [1., 1., 1.],\n",
       "         [1., 1., 1.],\n",
       "         [1., 1., 1.]],\n",
       "\n",
       "        [[1., 1., 1.],\n",
       "         [1., 1., 1.],\n",
       "         [1., 1., 1.],\n",
       "         ...,\n",
       "         [1., 1., 1.],\n",
       "         [1., 1., 1.],\n",
       "         [1., 1., 1.]]]], dtype=float32)"
      ]
     },
     "execution_count": 62,
     "metadata": {},
     "output_type": "execute_result"
    }
   ],
   "source": [
    "X"
   ]
  },
  {
   "cell_type": "code",
   "execution_count": 63,
   "id": "b3d9d196",
   "metadata": {},
   "outputs": [],
   "source": [
    "interpreter.set_tensor(input_index, X)\n",
    "interpreter.invoke()\n",
    "preds = interpreter.get_tensor(output_index)"
   ]
  },
  {
   "cell_type": "code",
   "execution_count": 64,
   "id": "419fdb07",
   "metadata": {},
   "outputs": [
    {
     "data": {
      "text/plain": [
       "{'cups': 4.57581,\n",
       " 'glass': -1.0029266,\n",
       " 'plate': -2.1671364,\n",
       " 'spoon': -1.7571877,\n",
       " 'knife': -0.21591592,\n",
       " 'fork': -2.3173115}"
      ]
     },
     "execution_count": 64,
     "metadata": {},
     "output_type": "execute_result"
    }
   ],
   "source": [
    "classes = [\n",
    "    'cups',\n",
    "    'glass',\n",
    "    'plate',\n",
    "    'spoon',\n",
    "    'knife',\n",
    "    'fork'\n",
    "]\n",
    "\n",
    "dict(zip(classes, preds[0]))"
   ]
  },
  {
   "cell_type": "code",
   "execution_count": null,
   "id": "353f3d92",
   "metadata": {},
   "outputs": [],
   "source": []
  }
 ],
 "metadata": {
  "kernelspec": {
   "display_name": "Python 3",
   "language": "python",
   "name": "python3"
  },
  "language_info": {
   "codemirror_mode": {
    "name": "ipython",
    "version": 3
   },
   "file_extension": ".py",
   "mimetype": "text/x-python",
   "name": "python",
   "nbconvert_exporter": "python",
   "pygments_lexer": "ipython3",
   "version": "3.9.13"
  }
 },
 "nbformat": 4,
 "nbformat_minor": 5
}
